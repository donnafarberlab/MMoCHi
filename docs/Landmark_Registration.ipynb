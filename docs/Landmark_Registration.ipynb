{
 "cells": [
  {
   "cell_type": "markdown",
   "id": "77a4851b-8873-4fbc-a39c-f8ee550d9d9d",
   "metadata": {
    "tags": []
   },
   "source": [
    "# **Landmark Registration — using the built in MMoCHi function**\n",
    "\n",
    "**Author:** Daniel Caron\n",
    "\n",
    "**In this notebook, we walk through how to fine-tune MMoCHi's in-house landmark registration function. This fine-tuning is critical for obtaining well-integrated ADT data. Here, we will focus primarily on correcting landmark detection, as the position of identified landmarks defines how the expression distributions are shifted.**\n",
    "\n",
    "\n",
    "A note before we begin: landmark registration of ADT data can also be achieved using [ADTnorm in R](https://github.com/yezhengSTAT/ADTnorm) or the [Python wrapper for it](https://github.com/donnafarberlab/ADTnormPy). The functions shown here are specifically designed to work with our in-house landmark registration function, but the concepts described can be applied to any landmark registration based tool."
   ]
  },
  {
   "cell_type": "markdown",
   "id": "8b2cb83d-a8b3-4d6d-8a03-5522d8fbbd85",
   "metadata": {},
   "source": [
    "## **Import packages**"
   ]
  },
  {
   "cell_type": "code",
   "execution_count": null,
   "id": "6d1a3d58-626a-432b-ab95-0fa6e49e7263",
   "metadata": {
    "tags": []
   },
   "outputs": [],
   "source": [
    "import anndata\n",
    "import scanpy as sc\n",
    "import matplotlib.pyplot as plt\n",
    "import pandas as pd\n",
    "import numpy as np\n",
    "import mmochi as mmc\n",
    "import os\n",
    "plt.rcParams['figure.dpi'] = 150\n",
    "mmc.log_to_file('landmark_registration')\n",
    "\n",
    "# Make the data directory if this notebook is not being run in the docs folder\n",
    "if not os.path.isdir('data'):\n",
    "    os.mkdir('data')"
   ]
  },
  {
   "cell_type": "markdown",
   "id": "edfe463e-8c6a-4ec7-867d-aee9855e6ff8",
   "metadata": {},
   "source": [
    "Set the global default for `batch_key`, so that we don't need to pass it to every function"
   ]
  },
  {
   "cell_type": "code",
   "execution_count": null,
   "id": "386a6756-4745-457d-a67d-8ed278631b52",
   "metadata": {},
   "outputs": [],
   "source": [
    "mmc.BATCH_KEY = 'batch'"
   ]
  },
  {
   "cell_type": "markdown",
   "id": "dbb89c0f-f295-41da-9d7c-30defd9baa9a",
   "metadata": {
    "tags": []
   },
   "source": [
    "## **Downloading and preprocessing the data**\n",
    "\n",
    "&nbsp;&nbsp;&nbsp;&nbsp;&nbsp;&nbsp;Prior to landmark registration, we should normalize the data using arcsine or log transformations. These transformations should be tuned until you have clear separation of positive and negative populations on bimodal and trimodal markers. Finding the right transformation will aid with landmark registration, thresholding, and interpretability.    \n",
    "    \n",
    "&nbsp;&nbsp;&nbsp;&nbsp;&nbsp;&nbsp;Here, we will demonstrate landmark registration across three 10X Genomics sequencing runs (pbmc_10k_protein_v3, 5k_pbmc_protein_v3, and pbmc_1k_protein_v3). Landmark registration removes batch effects caused by variable background and signal-to-noise ratio of antibody staining and variable sequencing depth, thus samples that were stained or sequenced separately should be treated as separate batches. In this case, staining was performed separately for each of the sequencing runs. The following function will download the datasets, perform normalization, and format them with the GEX data in the `.X` and the ADT data in the `.obsm['protien']`:"
   ]
  },
  {
   "cell_type": "code",
   "execution_count": null,
   "id": "2b24b5ed-0aca-4be2-aa1f-811219e262b7",
   "metadata": {
    "tags": []
   },
   "outputs": [],
   "source": [
    "batches = ['pbmc_10k_protein_v3','5k_pbmc_protein_v3','pbmc_1k_protein_v3']\n",
    "files = ['data/pbmc_10k_protein_v3.h5','data/5k_pbmc_protein_v3.h5','data/pbmc_1k_protein_v3.h5']\n",
    "urls = ['http://cf.10xgenomics.com/samples/cell-exp/3.0.0/pbmc_10k_protein_v3/pbmc_10k_protein_v3_filtered_feature_bc_matrix.h5',\n",
    "        'http://cf.10xgenomics.com/samples/cell-exp/3.0.2/5k_pbmc_protein_v3/5k_pbmc_protein_v3_filtered_feature_bc_matrix.h5',\n",
    "        'http://cf.10xgenomics.com/samples/cell-exp/3.0.0/pbmc_1k_protein_v3/pbmc_1k_protein_v3_filtered_feature_bc_matrix.h5']\n",
    "adatas = mmc.utils.preprocess_adatas(files,\n",
    "                                     backup_urls = urls, log_CP_ADT=1e3, log_CP_GEX=1e4)\n",
    "adata = anndata.concat(adatas, merge='first', keys=batches,\n",
    "                       label='batch', index_unique='_')"
   ]
  },
  {
   "cell_type": "markdown",
   "id": "1b96c5d9-cb08-40b3-85cf-9545fb3004e2",
   "metadata": {},
   "source": [
    "## **Check how landmark registration performs by default**\n",
    "Let's begin by running landmark registration with no manual alterations, so that we can see how it performs on every marker/batch:"
   ]
  },
  {
   "cell_type": "code",
   "execution_count": null,
   "id": "5155096d-4bb9-49e4-a7a9-c9e1a317b52c",
   "metadata": {},
   "outputs": [],
   "source": [
    "adata = mmc.landmark_register_adts(adata, data_key='protein')"
   ]
  },
  {
   "cell_type": "markdown",
   "id": "e1585274-137c-4fb4-afbf-657e4bb7eab5",
   "metadata": {},
   "source": [
    "&nbsp;&nbsp;&nbsp;&nbsp;&nbsp;&nbsp;Once the landmark registration has run, this code block will plot all the ADTs in alphabetical order. The ADT expression distribution (`'protein'`) and the landmark-registered distributions (`'landmark protein'`) are shown side-by-side for each marker on a 10% subsample of the dataset. Peaks detected are highlighted by small black bars. To identify issues, we're going to carefully inspect the marker distribution before and after landmark registration:"
   ]
  },
  {
   "cell_type": "code",
   "execution_count": null,
   "id": "2b516272-1658-4aba-9532-91309b207bdc",
   "metadata": {},
   "outputs": [],
   "source": [
    "marker_to_process = sorted(adata.obsm['protein'].columns)\n",
    "chunk_size=3\n",
    "for i in range(0, len(marker_to_process), chunk_size):\n",
    "    mmc.stacked_density_plots(adata, marker_to_process[i:i+chunk_size], 'batch', ['protein', 'landmark_protein'], height=1, aspect=2, subsample=1)"
   ]
  },
  {
   "cell_type": "markdown",
   "id": "6aa1ae29-c876-44f2-8ce8-a192f5184ab1",
   "metadata": {},
   "source": [
    "For most markers, landmark registration appears to have done a good job. You can see how non-overlapping peaks now sit on top of each other. \n",
    "\n",
    "&nbsp;&nbsp;&nbsp;&nbsp;&nbsp;&nbsp;There are caveats to landmark registration. For example, even when applied perfectly, landmark registration will obscure changes in overall expression intensity between samples. Importantly, however, the relative position of the peaks corresponding to cells expressing or lacking any given ADT are now equalized across batches. For thresholding and classification, this is much more important. \n",
    "\n",
    "You may also be able to readily identify some spots where peak identification appears to have failed. This includes: \n",
    "\n",
    "- [Single peaks](#SinglePeaks) : IgG1_control, IgG2a_control, IgG2b_control\n",
    "- [Expression gradient](#SinglePeaks) : CD25, PD-1\n",
    "- [Bandwidth issues](#BandwidthIssues) : CD4, CD45RA\n",
    "- [Inconsistent peak calling](#Inconsistent): CD56, TIGIT\n",
    "\n",
    "Below we will take a closer look at each of these cases and identify ways to tweak the algorithm to fix them."
   ]
  },
  {
   "cell_type": "markdown",
   "id": "ff0d53f0-bcf1-4d79-b45a-b50a249f2978",
   "metadata": {
    "tags": []
   },
   "source": [
    "## **Limiting detection to single peaks for unimodal markers and gradients** <a id='SinglePeaks'></a> \n",
    "For some markers, most notably our isotype controls, we don't expect to see (nor do we see) a clear positive population. Yet on some batches, the function is accidentally identifying a second peak. "
   ]
  },
  {
   "cell_type": "code",
   "execution_count": null,
   "id": "56f74bd2-94e1-459c-9c79-0ed1a518a151",
   "metadata": {},
   "outputs": [],
   "source": [
    "mmc.stacked_density_plots(adata, ['IgG1_control','IgG2a_control','IgG2b_control'], 'batch', ['protein', 'landmark_protein'], height=1, aspect=2, subsample=1)"
   ]
  },
  {
   "cell_type": "markdown",
   "id": "1466981b-4439-46a9-8141-703f26164372",
   "metadata": {},
   "source": [
    "As an input to `mmc.landmark_register_adts`, we can pass a list of markers that should only have a single peak. Let's create that now, so that later we can eliminate these accidental positive peak calls."
   ]
  },
  {
   "cell_type": "code",
   "execution_count": null,
   "id": "ed8b017e-4ebc-49a3-8b1c-a1a49ef25ec4",
   "metadata": {},
   "outputs": [],
   "source": [
    "single_peaks = ['IgG1_control','IgG2a_control','IgG2b_control']"
   ]
  },
  {
   "cell_type": "markdown",
   "id": "aaa70e49-4467-4b86-b064-5a5c96e9df76",
   "metadata": {},
   "source": [
    "&nbsp;&nbsp;&nbsp;&nbsp;&nbsp;&nbsp;For other markers, there may be a gradient of expression, and it may be hard to define a clear positive or negative peak. For these as well, we may choose to align them as single peaks. This is not the only option for these markers. We could also manually identify two consistent landmarks in the distribution across all the batches, for example clearly low and high expressing populations. These do not necessarily need to be peaks, which for some markers could better reflect how flow-gating is performed."
   ]
  },
  {
   "cell_type": "code",
   "execution_count": null,
   "id": "0615ce3c-f099-4403-b569-ad3744407469",
   "metadata": {},
   "outputs": [],
   "source": [
    "mmc.stacked_density_plots(adata, ['CD25','PD-1'], 'batch', ['protein','landmark_protein'], height=1, aspect=2, subsample=1)"
   ]
  },
  {
   "cell_type": "markdown",
   "id": "e2bf506b-229e-4d9a-bacb-ece053ad9cd6",
   "metadata": {},
   "source": [
    "Here, with no clear positive signal, let's just designate them as single-peaks to prevent aberrant alignment:"
   ]
  },
  {
   "cell_type": "code",
   "execution_count": null,
   "id": "11481148-d43a-4cb2-9673-5e29e5c2f4db",
   "metadata": {},
   "outputs": [],
   "source": [
    "single_peaks = single_peaks + ['CD25','PD-1']"
   ]
  },
  {
   "cell_type": "markdown",
   "id": "e685dca6-73db-4d91-ad6f-6571491d8b04",
   "metadata": {
    "tags": []
   },
   "source": [
    "## **Altering bandwidths** <a id='BandwidthIssues'></a>\n",
    "\n",
    "&nbsp;&nbsp;&nbsp;&nbsp;&nbsp;&nbsp;For other markers, peak identification appears to have failed across all or most of the batches. Peak identification is performed on the smoothed kernel density estimation (KDE) of the data. The bandwidth parameter controls the level of smoothing performed. Let's see how altering this bandwidth affects peak identification for various markers. Below are our histograms for two trimodal markers: CD4 and CD45RA. \n",
    "\n",
    "You can see that for some of these batches, the peak does not sit consistently in the center of the positive population:"
   ]
  },
  {
   "cell_type": "code",
   "execution_count": null,
   "id": "8acc9931-1858-4d77-b333-b26bb3c85c24",
   "metadata": {},
   "outputs": [],
   "source": [
    "mmc.stacked_density_plots(adata, ['CD4','CD45RA'], 'batch', ['protein','landmark_protein'], height=1, aspect=2)"
   ]
  },
  {
   "cell_type": "markdown",
   "id": "8e8e4273-b112-4cf6-ba25-09ca30cec69f",
   "metadata": {},
   "source": [
    "The default smoothing applied is at a bandwidth adjustment of 0.2, so let's look at that:"
   ]
  },
  {
   "cell_type": "code",
   "execution_count": null,
   "id": "b8faa555-08a7-44cf-9797-65935f2fd24c",
   "metadata": {},
   "outputs": [],
   "source": [
    "mmc.stacked_density_plots(adata, ['CD4','CD45RA'], 'batch', ['protein', 'landmark_protein'], height=1, aspect=2, bw_adjust=0.2)"
   ]
  },
  {
   "cell_type": "markdown",
   "id": "ce9c3409-8cb5-4fd0-b8cf-f2b65daaab55",
   "metadata": {},
   "source": [
    "&nbsp;&nbsp;&nbsp;&nbsp;&nbsp;&nbsp;What seems to be happening here is that the positive and mid-peaks are being smoothed together in the KDE approximation, leading to a peak identification that isn't quite centered on the most positive peak. \n",
    "\n",
    "&nbsp;&nbsp;&nbsp;&nbsp;&nbsp;&nbsp;Let's take an even closer look at `CD4` on each of the batches to see where peak identification is going wrong. As a convenience function, we have also provided `mmc.update_landmark_register` which can recalculate landmark registration on a single marker for a single batch. This can be very handy for quickly seeing how your individual edits affect landmark registration without rerunning the entire dataset. Using `show`, you can also increase verbosity to see more information about the peak detection. "
   ]
  },
  {
   "cell_type": "markdown",
   "id": "155b7528-c50c-4c10-8784-5b1288d5a202",
   "metadata": {},
   "source": [
    "### The math behind landmark registration\n",
    "\n",
    "&nbsp;&nbsp;&nbsp;&nbsp;&nbsp;&nbsp;Increasing verobsity on `mmc.update_landmark_register` reveals a bit of the underlying math to peak detection. While you don't need a complete understanding of the math to apply landmark registration, it may help explain why peak detection fails in some cases, and help you decide which parameters to adjust.\n",
    "\n",
    "&nbsp;&nbsp;&nbsp;&nbsp;&nbsp;&nbsp;Here we can view the KDE smoothed expression, and the derivative of that function. The red X's identify locations where peaks are called. Peaks are identified using the 1st and 2nd derivatives (slope and change in slope). Yellow dots (not shown here) represent local maxima/minima that were not identified as a 'peak' for various reasons, such as being too close to another identified peak. The green dots identify landmarks identified by the 2nd derivative (maxim or minima in the derivative plot), which could indicate populations that don't quite form a distinct peak."
   ]
  },
  {
   "cell_type": "code",
   "execution_count": null,
   "id": "3b8e5011-e0e9-403e-b631-0a121a9238e5",
   "metadata": {},
   "outputs": [],
   "source": [
    "adata = mmc.update_landmark_register(adata, '5k_pbmc_protein_v3', 'CD4', show=2)\n",
    "adata = mmc.update_landmark_register(adata, 'pbmc_10k_protein_v3', 'CD4', show=2)\n",
    "adata = mmc.update_landmark_register(adata, 'pbmc_1k_protein_v3', 'CD4', show=2)"
   ]
  },
  {
   "cell_type": "markdown",
   "id": "f465e0ce-5449-45ef-9aa5-0b81dec6c84e",
   "metadata": {},
   "source": [
    "As you can see on `pbmc_10k_protein_v3`, it appears that the middle and positive peaks have been merged by the KDE smoothing, leading to a peak identified in between the two of them. The effect this has on the landmark registration is quite minor in this example, but these can have major effects on other samples, so let's look into fixing it by lowering the bandwidth:"
   ]
  },
  {
   "cell_type": "code",
   "execution_count": null,
   "id": "c6e7564d-5c4e-43de-9caf-9df0873d8052",
   "metadata": {},
   "outputs": [],
   "source": [
    "adata = mmc.update_landmark_register(adata, '5k_pbmc_protein_v3', 'CD4', show=2, bandwidth=0.15)\n",
    "adata = mmc.update_landmark_register(adata, 'pbmc_10k_protein_v3', 'CD4', show=2, bandwidth=0.15)\n",
    "adata = mmc.update_landmark_register(adata, 'pbmc_1k_protein_v3', 'CD4', show=2, bandwidth=0.15)"
   ]
  },
  {
   "cell_type": "markdown",
   "id": "e3aaa95d-a7b0-4108-8cb3-72ca3f636911",
   "metadata": {},
   "source": [
    "So here, changing the bandwidth to a lower number (reducing the amount of smoothing) led to a more correct peak identification. Now let's look into CD45RA:"
   ]
  },
  {
   "cell_type": "code",
   "execution_count": null,
   "id": "b47353ef-4001-4d90-b84d-5553867d0249",
   "metadata": {},
   "outputs": [],
   "source": [
    "adata = mmc.update_landmark_register(adata, '5k_pbmc_protein_v3', 'CD45RA', show=2)\n",
    "adata = mmc.update_landmark_register(adata, 'pbmc_10k_protein_v3', 'CD45RA', show=2)\n",
    "adata = mmc.update_landmark_register(adata, 'pbmc_1k_protein_v3', 'CD45RA', show=2)"
   ]
  },
  {
   "cell_type": "markdown",
   "id": "ffec9472-7f39-4197-bc56-ef91b1020904",
   "metadata": {},
   "source": [
    "Here there's a slightly different issue. On `pbmc_1k_protein_v3`, it appears that the negative peak isn't prominent enough to be identified using this KDE-smoothing. Let's try out a different bandwidth to see if this can be fixed."
   ]
  },
  {
   "cell_type": "code",
   "execution_count": null,
   "id": "22d5d0df-61b9-48b7-84cc-801e683488f6",
   "metadata": {},
   "outputs": [],
   "source": [
    "adata = mmc.update_landmark_register(adata, '5k_pbmc_protein_v3', 'CD45RA', show=2, bandwidth=0.12)\n",
    "adata = mmc.update_landmark_register(adata, 'pbmc_10k_protein_v3', 'CD45RA', show=2, bandwidth=0.12)\n",
    "adata = mmc.update_landmark_register(adata, 'pbmc_1k_protein_v3', 'CD45RA',show=2, bandwidth=0.12)"
   ]
  },
  {
   "cell_type": "markdown",
   "id": "17887b89-0776-4dbf-90f5-689785c67303",
   "metadata": {},
   "source": [
    "Now you can see that these markers are both aligned much more consistently across batches!"
   ]
  },
  {
   "cell_type": "code",
   "execution_count": null,
   "id": "881e4f45-a6d0-457e-9801-a1a26c6d220b",
   "metadata": {},
   "outputs": [],
   "source": [
    "mmc.stacked_density_plots(adata, ['CD4','CD45RA'], 'batch', ['protein', 'landmark_protein'], height=1, aspect=2)"
   ]
  },
  {
   "cell_type": "markdown",
   "id": "7b8822c9-3359-474f-af92-24117200867f",
   "metadata": {},
   "source": [
    "Once we have identified good bandwidths to use, we need to store these in a dictionary to pass to `landmark_register_adts` for our next run. We can format a dictionary as such:"
   ]
  },
  {
   "cell_type": "code",
   "execution_count": null,
   "id": "714b836d-bc7e-4446-8e2b-d78555bf735a",
   "metadata": {},
   "outputs": [],
   "source": [
    "marker_bandwidths = {'CD4':0.15, 'CD45RA':0.12}"
   ]
  },
  {
   "cell_type": "markdown",
   "id": "b39bd93a-4afd-45da-8c3c-f5fc32f27ff4",
   "metadata": {
    "tags": []
   },
   "source": [
    "## **Manual Overrides** <a id='Inconsistent'></a> \n",
    "\n",
    "With these two tools above, you can adjust peak identification pretty effectively across the dataset. Sometimes, however, your eyes and biological insight can do a much better job than our hardcoded algorithm will ever do. In those cases, you need to use manual overrides, and identify the landmarks (peaks) you want the algorithm to align. We begin by creating an empty dictionary to store our overrides:"
   ]
  },
  {
   "cell_type": "code",
   "execution_count": null,
   "id": "1e6ea165-eccd-4a2d-b884-a0264f536bc3",
   "metadata": {},
   "outputs": [],
   "source": [
    "peak_overrides = {}"
   ]
  },
  {
   "cell_type": "markdown",
   "id": "55b4d85f-1078-4712-a19d-05a3d5b70d54",
   "metadata": {},
   "source": [
    "Let's take another look at the markers we identified as issues. Here, most of the issues stem from too-few events in `pbmc_1k_protein_v3` expressing these proteins at high levels:"
   ]
  },
  {
   "cell_type": "code",
   "execution_count": null,
   "id": "7c8fb4de-8c6a-436c-a11f-4241eda90aa6",
   "metadata": {},
   "outputs": [],
   "source": [
    "mmc.stacked_density_plots(adata, ['CD56','TIGIT'], 'batch', ['protein', 'landmark_protein'], height=1, aspect=2)"
   ]
  },
  {
   "cell_type": "markdown",
   "id": "a7f385b2-791c-4cea-ac03-2ffb3ffa051d",
   "metadata": {},
   "source": [
    "This is the most tedious part of landmark registration, so I have built a list of codeblocks that can be run sequentially to get through this quickly:"
   ]
  },
  {
   "cell_type": "code",
   "execution_count": null,
   "id": "e4b326f3-54ff-473d-b696-0f5d5e93668d",
   "metadata": {},
   "outputs": [],
   "source": [
    "marker_name = 'CD56' # TIGIT"
   ]
  },
  {
   "cell_type": "code",
   "execution_count": null,
   "id": "e515239f-75d0-4a71-8f07-d2a711261158",
   "metadata": {},
   "outputs": [],
   "source": [
    "# View current peak overrides on that marker across all batches\n",
    "for b in sorted(peak_overrides.keys()):\n",
    "    if marker in peak_overrides[b]:\n",
    "        print(b, peak_overrides[b][marker])"
   ]
  },
  {
   "cell_type": "code",
   "execution_count": null,
   "id": "85f7c013-1177-4767-91b1-cb26f59f3f61",
   "metadata": {},
   "outputs": [],
   "source": [
    "# Pick a batch, and view a close-up of its original peak identification\n",
    "batch_name = 'pbmc_1k_protein_v3'\n",
    "mmc.density_plot(adata, marker_name, batch_name, data_key='protein', bw_adjust=0, step=0.1)\n",
    "print(f\"The current peaks sit at {adata.uns['protein_peaks'][batch_name][marker_name]}\")"
   ]
  },
  {
   "cell_type": "code",
   "execution_count": null,
   "id": "d6ef847c-1923-476b-b793-ecf37e37f4f9",
   "metadata": {},
   "outputs": [],
   "source": [
    "# Update the peak overrides. To keep current upper or lower peak use False.\n",
    "# To force a single negative or positive peak, use None for update_upper or update_lower, respectively\n",
    "peak_overrides = mmc.update_peak_overrides(batch_name, marker_name, update_lower=False, update_upper=3.5, peak_overrides=peak_overrides,\n",
    "                                           current_peaks=adata.uns['protein_peaks'])\n",
    "print(f\"Set peak_overrides['{batch_name}']['{marker_name}'] = {peak_overrides[batch_name][marker_name]}\")"
   ]
  },
  {
   "cell_type": "code",
   "execution_count": null,
   "id": "e2849bf4-dd7b-4f5f-837d-8ffa7be0ad04",
   "metadata": {},
   "outputs": [],
   "source": [
    "adata = mmc.update_landmark_register(adata, batch_name, marker_name, override=peak_overrides, \n",
    "                            data_key = 'protein', key_added = 'landmark_protein', show=False, \n",
    "                            single_peak=single_peaks, bandwidth=marker_bandwidths if marker_name in marker_bandwidths else 0.2)"
   ]
  },
  {
   "cell_type": "code",
   "execution_count": null,
   "id": "6359deb3-5161-4cf3-b220-761f4471bdc5",
   "metadata": {},
   "outputs": [],
   "source": [
    "# Display the protein peak identification, and the landmark registration atop all the other batches\n",
    "mmc.density_plot(adata[adata.obsm['protein'][marker_name]>0], marker_name, batch_name, 'batch', 'protein', bw_adjust=0, step=0.1)\n",
    "mmc.density_plot_total(adata, marker_name, batch_name, 'batch', 'landmark_protein')"
   ]
  },
  {
   "cell_type": "code",
   "execution_count": null,
   "id": "013fc79c-71d5-4956-948c-fee9a4aa7135",
   "metadata": {},
   "outputs": [],
   "source": [
    "if False: # Alternatively, to remove an override\n",
    "    del peak_overrides[batch_name][marker_name]"
   ]
  },
  {
   "cell_type": "code",
   "execution_count": null,
   "id": "ac7aa55b-703a-4bfb-97fc-70bdc21d36e8",
   "metadata": {
    "scrolled": true,
    "tags": []
   },
   "outputs": [],
   "source": [
    "# Print to notebook to have a temporary save of the updated variables, to quickly revert changes, or for updating above.\n",
    "print('peak_overrides =', peak_overrides, end='\\n\\n')\n",
    "print('single_peaks =', single_peaks, end='\\n\\n')\n",
    "print('marker_bandwidths =', marker_bandwidths)"
   ]
  },
  {
   "cell_type": "markdown",
   "id": "944e9a2d-d6cb-41b1-99a4-245b76abd5e7",
   "metadata": {},
   "source": [
    "These peak overrides can get quite long, especially with many batches, or large TotalSeq cocktails of ADTs, so we've also implemented a function to save these to a json and load them back in:"
   ]
  },
  {
   "cell_type": "code",
   "execution_count": null,
   "id": "9fd048a7-9058-4d7b-8479-63c04ff118b8",
   "metadata": {},
   "outputs": [],
   "source": [
    "mmc.save_peak_overrides('data/overrides.json', peak_overrides)\n",
    "loaded_overrides = mmc.load_peak_overrides('data/overrides.json')"
   ]
  },
  {
   "cell_type": "markdown",
   "id": "e4049c1b-dd7d-4552-a616-09c727a39069",
   "metadata": {
    "tags": []
   },
   "source": [
    "Great, now go back up and do the same for `TIGIT` on this batch, and on `5k_pbmc_protein_v3`\n",
    "\n",
    "This is code you can run through iteratively as you evaluate the performance of your landmark registration. "
   ]
  },
  {
   "cell_type": "markdown",
   "id": "986a0f3d-b6e7-46ba-9559-49f5c9cbb464",
   "metadata": {},
   "source": [
    "<div class=\"alert alert-info\">\n",
    "    \n",
    "**Tip — Cleaning up more:**\n",
    "    \n",
    "Have you identified any other issues in the landmark registration above (e.g. on other markers or batches)? If so, you can edit them here as well! I've written this document to try to provide a good framework for what to look for. Look into the documentation of each of these functions as well to get a better idea what altering each parameter does.</div>"
   ]
  },
  {
   "cell_type": "markdown",
   "id": "0b52a457-bd9a-423a-8953-c97d5d4c0c1f",
   "metadata": {
    "tags": []
   },
   "source": [
    "## **Running it all together**\n",
    "Now that we've made all these modifications, let's put it all together and rerun landmark registration! I've defined all my overrides here so that you can run the next function and get the same output as me."
   ]
  },
  {
   "cell_type": "code",
   "execution_count": null,
   "id": "ebbd8cd4-7a66-4321-84ca-169174f05175",
   "metadata": {},
   "outputs": [],
   "source": [
    "peak_overrides = {'pbmc_1k_protein_v3': {'CD56': [1.1411411411411412, 3.5], \n",
    "                                            'TIGIT': [0.6806806806806807, 2.5]}, \n",
    "                  '5k_pbmc_protein_v3': {'TIGIT': [0.8008008008008007, 2.9]}}\n",
    "\n",
    "single_peaks = ['IgG1_control', 'IgG2a_control', 'IgG2b_control', 'CD25']\n",
    "marker_bandwidths = {'CD4': 0.15, 'CD45RA': 0.12}"
   ]
  },
  {
   "cell_type": "code",
   "execution_count": null,
   "id": "a0a96374-8057-4c5e-a291-40865450b4ca",
   "metadata": {},
   "outputs": [],
   "source": [
    "adata = mmc.landmark_register_adts(adata, data_key='protein', single_peaks=single_peaks,\n",
    "                                   marker_bandwidths=marker_bandwidths, peak_overrides=peak_overrides)"
   ]
  },
  {
   "cell_type": "markdown",
   "id": "f5480a01-7b5d-4913-9e9a-4807b6650f39",
   "metadata": {},
   "source": [
    "Once the landmark registration has run, this code block will again plot all the ADTs in alphabetical order:"
   ]
  },
  {
   "cell_type": "code",
   "execution_count": null,
   "id": "5d18ebb7-12dc-4002-8beb-1aab9ed21c50",
   "metadata": {
    "scrolled": true,
    "tags": []
   },
   "outputs": [],
   "source": [
    "marker_to_process = sorted(adata.obsm['protein'].columns)\n",
    "chunk_size=3\n",
    "for i in range(0, len(marker_to_process), chunk_size):\n",
    "    mmc.stacked_density_plots(adata, marker_to_process[i:i+chunk_size], 'batch', ['protein', 'landmark_protein'], height=1, aspect=2, subsample=1)"
   ]
  },
  {
   "cell_type": "markdown",
   "id": "cab08489-3feb-4ac3-b83f-f3917f967c7e",
   "metadata": {},
   "source": [
    "<div class=\"alert alert-success\">\n",
    "    \n",
    "**Great!** \n",
    "\n",
    "This looks much improved and will perform better when we run MMoCHi on it!<br>\n",
    "</div>"
   ]
  }
 ],
 "metadata": {
  "kernelspec": {
   "display_name": "mmochi0.3.0",
   "language": "python",
   "name": "mmochi0.3.0"
  },
  "language_info": {
   "codemirror_mode": {
    "name": "ipython",
    "version": 3
   },
   "file_extension": ".py",
   "mimetype": "text/x-python",
   "name": "python",
   "nbconvert_exporter": "python",
   "pygments_lexer": "ipython3",
   "version": "3.8.18"
  },
  "widgets": {
   "application/vnd.jupyter.widget-state+json": {
    "state": {},
    "version_major": 2,
    "version_minor": 0
   }
  }
 },
 "nbformat": 4,
 "nbformat_minor": 5
}
