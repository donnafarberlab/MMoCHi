{
 "cells": [
  {
   "cell_type": "markdown",
   "id": "ab64bbb5-d355-4133-bf42-3e9d15bb47f1",
   "metadata": {
    "tags": []
   },
   "source": [
    "# **Hierarchy Design for MMoCHi**\n",
    "\n",
    "**Authors:** Daniel Caron and William Specht\n",
    "\n",
    "**MMoCHi classification is centered around user-defined hierarchies. In this tutorial we will walk through how to set up a hierarchy and will give tips and recommendations for designing your own hierarchies.**"
   ]
  },
  {
   "cell_type": "markdown",
   "id": "8d9f55d6-801f-4cfe-aafc-87e286dbf164",
   "metadata": {},
   "source": [
    "## **Import packages**"
   ]
  },
  {
   "cell_type": "code",
   "execution_count": 1,
   "id": "2c204fe3-97b7-4fb3-b03d-3f72f5b069cf",
   "metadata": {},
   "outputs": [],
   "source": [
    "import anndata\n",
    "import scanpy as sc\n",
    "import pandas as pd\n",
    "import numpy as np\n",
    "import matplotlib.pyplot as plt\n",
    "plt.rcParams['figure.dpi'] = 150\n",
    "plt.rcParams['figure.facecolor'] = 'white'\n",
    "plt.rcParams['legend.frameon'] = 'False'\n",
    "import mmochi as mmc\n",
    "import os\n",
    "mmc.log_to_file('hierarchy')\n",
    "\n",
    "# Make the data directory if this notebook is not being run in the docs folder\n",
    "if not os.path.isdir('data'):\n",
    "    os.mkdir('data')"
   ]
  },
  {
   "cell_type": "code",
   "execution_count": 2,
   "id": "4afb5bd1-4002-40d2-9015-42f8b1043335",
   "metadata": {},
   "outputs": [],
   "source": [
    "#global defaults\n",
    "mmc.DATA_KEY = 'landmark_protein'\n",
    "mmc.BATCH_KEY = 'batch'"
   ]
  },
  {
   "cell_type": "markdown",
   "id": "66bca198-f255-4ff4-8fba-fd6480af4415",
   "metadata": {},
   "source": [
    "## **Downloading and preprocessing the data**\n",
    "We will begin by downloading the data and performing preprocessing and landmark registration (see [Integrated Classification tutorial](./Integrated_Classification.ipynb)):"
   ]
  },
  {
   "cell_type": "code",
   "execution_count": null,
   "id": "23439227-297e-4d32-99dc-527bb29b9eb1",
   "metadata": {},
   "outputs": [],
   "source": [
    "batches = ['pbmc_10k_protein_v3','5k_pbmc_protein_v3']\n",
    "files = ['data/pbmc_10k_protein_v3.h5','data/5k_pbmc_protein_v3.h5']\n",
    "urls = ['http://cf.10xgenomics.com/samples/cell-exp/3.0.0/pbmc_10k_protein_v3/pbmc_10k_protein_v3_filtered_feature_bc_matrix.h5',\n",
    "        'http://cf.10xgenomics.com/samples/cell-exp/3.0.2/5k_pbmc_protein_v3/5k_pbmc_protein_v3_filtered_feature_bc_matrix.h5']\n",
    "adatas = mmc.utils.preprocess_adatas(files,\n",
    "                                     backup_urls=urls, log_CP_ADT=1e3, log_CP_GEX=1e4)\n",
    "adata = anndata.concat(adatas, merge='first', keys=batches, label='batch', index_unique='_')\n",
    "adata.obsm['protein'].drop(['IgG2a_control','IgG2b_control','IgG1_control'], axis=1, inplace=True)\n",
    "adata = mmc.landmark_register_adts(adata, single_peaks=['CD25'])"
   ]
  },
  {
   "cell_type": "markdown",
   "id": "17980e12-e04c-4447-8fcf-970825b8708d",
   "metadata": {},
   "source": [
    "## **Exploring the data**\n",
    "&nbsp;&nbsp;&nbsp;&nbsp;&nbsp;&nbsp;As described in the [Integrated Classification tutorial](./Integrated_Classification.ipynb), before cell type classification, we recommend performing a cursory unsupervised analysis of your dataset. This will help inform which cell types to include in your hierarchy and can be used to evaluate the quality of various cell type markers. As before, because clustering is stochastic, we will try to load in precomputed X_UMAP and leiden clusters:"
   ]
  },
  {
   "cell_type": "code",
   "execution_count": null,
   "id": "48bee64f-19d9-4013-bd60-2fca2133380f",
   "metadata": {},
   "outputs": [],
   "source": [
    "if os.path.isfile('data/Integrated_Classification_X_umap.txt') and os.path.isfile('data/Integrated_Classification_leiden.csv'):\n",
    "    adata.obsm['X_umap'] = np.loadtxt('data/Integrated_Classification_X_umap.txt')\n",
    "    adata.obs['leiden'] = pd.read_csv('data/Integrated_Classification_leiden.csv', index_col=0).astype(str).astype('category')\n",
    "else:\n",
    "    print('No pre made files found, generating new leiden clusers')\n",
    "    sc.pp.highly_variable_genes(adata)\n",
    "    sc.pp.pca(adata)\n",
    "    sc.external.pp.harmony_integrate(adata, adjusted_basis='X_pca', key='batch',\n",
    "                                     verbose=False, max_iter_harmony=20)\n",
    "    sc.pp.neighbors(adata)\n",
    "    sc.tl.umap(adata)\n",
    "    sc.tl.leiden(adata)\n",
    "    np.savetxt('data/Integrated_Classification_X_umap.txt', adata.obsm['X_umap'])\n",
    "    adata.obs['leiden'].to_csv('data/Integrated_Classification_leiden.csv')\n",
    "\n",
    "protein_adata = anndata.AnnData(adata.obsm['landmark_protein'], adata.obs.copy())\n",
    "protein_adata.obsm['X_umap'] = adata.obsm['X_umap'].copy()"
   ]
  },
  {
   "cell_type": "code",
   "execution_count": null,
   "id": "fc664dcd-5ee9-4bc4-849e-95a54294afb6",
   "metadata": {},
   "outputs": [],
   "source": [
    "sc.pl.umap(adata,color=['batch','leiden'], s=25, sort_order=False, wspace =.5)\n",
    "sc.pl.umap(adata,color=['CD3E','CD4','CD8A','IL7R','NKG7','CD19','JCHAIN','CD14'],\n",
    "           s=25, sort_order=False, cmap='Reds')\n",
    "sc.pl.umap(protein_adata, color=['CD3','CD4','CD8a','CD127','CD56','CD19','CD14'],\n",
    "           s=25, sort_order=False, cmap='Blues')"
   ]
  },
  {
   "cell_type": "markdown",
   "id": "e5bb3fa7-3ad4-4332-b425-8de78725ab4e",
   "metadata": {},
   "source": [
    "#### The first step in hierarchy design is defining your scope: What subsets would you like to annotate by classification? \n",
    "\n",
    "&nbsp;&nbsp;&nbsp;&nbsp;&nbsp;&nbsp;MMoCHi classification and unsupervised clustering each have their own strengths and weaknesses. In our experience, integrated classification requires extra care to annotate subsets that are unique to individual batches, while unsupervised clustering can separate these events with ease. Moreover, we recommend a minimum of at least 100 events be captured by high-confidence thresholding for training with MMoCHi (although we have had some success with fewer training events). Thus, it may be easier to focus on classifying cell types that are represented across multiple samples. For cell types that are better annotated by other methods, MMoCHi hierarchies support cutoff layers (using `mmc.add_classification(is_cutoff=True)`), which simply subsets cells by metadata or high-confidence thresholding without training a random forest.\n",
    "\n",
    "&nbsp;&nbsp;&nbsp;&nbsp;&nbsp;&nbsp;Here, we could design a hierarchy encompassing various blood immune cell subsets, including Monocytes, CD4<sup>+</sup> and CD8<sup>+</sup> T cells, B cells, plasma cells, NK cells, and ILCs. Next, we look though our clusters to identify if any do not belong to one of these groups. Leiden cluster 23 appears to be T/B cell doublets specific to one batch. Although these could have been removed during QC, if you want to keep these subsets in the `anndata.AnnData object` for later analysis, we can label them in the `.obs` for annotation by a cutoff layer. "
   ]
  },
  {
   "cell_type": "code",
   "execution_count": null,
   "id": "f5f0fdbd-c80c-4f09-8549-265c2e9e660d",
   "metadata": {},
   "outputs": [],
   "source": [
    "adata.obs['T_B doublets'] = adata.obs.leiden.isin(['23']).astype(str)"
   ]
  },
  {
   "cell_type": "markdown",
   "id": "0ec36112-24cf-444d-b0f8-4829bd132310",
   "metadata": {},
   "source": [
    "## **Choosing markers for your subsets**\n",
    "&nbsp;&nbsp;&nbsp;&nbsp;&nbsp;&nbsp;There are many resources detailing markers for cell types across many sample types. A few to start with include [the Human Protein Atlas](https://www.proteinatlas.org), [PanglaoDB](https://panglaodb.se/), [CellMarker](http://bio-bigdata.hrbmu.edu.cn/CellMarker/index.html), and [CellTypist encyclopedias](https://www.celltypist.org/encyclopedia/Immune/v2). These resources primarily focus on transcriptomic markers, but manufacturers have also compiled [resources for surface protein markers](https://www.rndsystems.com/resources/cell-markers). These databases can help you identify less familiar subsets and guide marker selection. There are also many guides for identifying cell type marker genes from within your dataset using differential expression, including [here](https://scanpy-tutorials.readthedocs.io/en/latest/pbmc3k.html) and [here](https://www.sc-best-practices.org). These can help you tune marker selection to your data and classify previously undescribed cell types. \n",
    "\n",
    "&nbsp;&nbsp;&nbsp;&nbsp;&nbsp;&nbsp;Once you have a sense for what markers could be used to identify your cell types of interest, evaluate their expression in the data. Your main focus should be whether the marker is as *specific* for your cell type as you expect, and whether it is as *ubiquitous* as you expect. Due to vast differences in experimental design and sequencing technologies, markers useful in one study may not be as applicable to your dataset. \n",
    "\n",
    "&nbsp;&nbsp;&nbsp;&nbsp;&nbsp;&nbsp;We have created a differential expression helper function to assist with the identification of marker genes. For example, here we will compare a cluster enriched in cytotoxic NK cells (NKG7<sup>+</sup> CD3<sup>-</sup>) to a cluster enriched in a subset of cytotoxic T cells (NKG7<sup>+</sup> CD3<sup>+</sup>) to identify other markers (beyond CD3) that distinguish them. This plot uses `cmap='jet'` which gives better distinction for where to draw thresholds."
   ]
  },
  {
   "cell_type": "code",
   "execution_count": null,
   "id": "71213399-9e63-4031-b3b4-39c54f62398c",
   "metadata": {},
   "outputs": [],
   "source": [
    "diff_expressed = mmc.identify_group_markers(adata, '4', '20', n_ups=11, n_downs=12)"
   ]
  },
  {
   "cell_type": "markdown",
   "id": "ac366ecd-adf7-4bb6-929b-77a30bf2360a",
   "metadata": {},
   "source": [
    "Here we can see that *GNLY*, *TYROBP*, and *KRLD1* may be reliable transcriptomic markers of NK cells when properly thresholded. This also reveals that *CD3G* and *CD3D* may be more reliable T cell markers than *CD3E*, which is highly expressed within the NK clusters. We can also look at the results of the differential expression:"
   ]
  },
  {
   "cell_type": "code",
   "execution_count": null,
   "id": "ca57e5df-c444-44c3-8199-d0f321e893e2",
   "metadata": {},
   "outputs": [],
   "source": [
    "diff_expressed[diff_expressed.names.isin(['GNLY','TYROBP','KLRD1','CD3G','CD3D'])]"
   ]
  },
  {
   "cell_type": "markdown",
   "id": "c504684f-78c7-436c-88b0-e7dfaecd0140",
   "metadata": {
    "tags": []
   },
   "source": [
    "## **Building the Hierarchy**"
   ]
  },
  {
   "cell_type": "markdown",
   "id": "c57b5895-d86a-46b8-b496-040e64895dac",
   "metadata": {
    "tags": []
   },
   "source": [
    "&nbsp;&nbsp;&nbsp;&nbsp;&nbsp;&nbsp;We will begin by creating a new `mmc.Hierarchy` object. In the initialization of the object, we can set a lot of default parameters, which will affect how classification layers perform. For example, here we set `default_min_events=15` so that MMoCHi will require at least 15 events to be used for training for each subset, and `default_class_weight='balanced'` to pass `class_weight='balanced'` to `sklearn.ensemble.RandomForestClassifier()`. Read more about various defaults that can be set in the docs. "
   ]
  },
  {
   "cell_type": "code",
   "execution_count": null,
   "id": "c99241ec-f996-4e08-bd02-2674748fb9eb",
   "metadata": {},
   "outputs": [],
   "source": [
    "h = mmc.Hierarchy(default_min_events=15, default_class_weight='balanced')"
   ]
  },
  {
   "cell_type": "markdown",
   "id": "5176d6c2-8c41-4081-aed8-33af46ac6036",
   "metadata": {},
   "source": [
    "#### Defining a cutoff node\n",
    "To build out the hierarchy, we will progressively define classification and subset nodes. To organize the hierarchy each node is defined with a unique name for itself and the name of its parent node.\n",
    "\n",
    "&nbsp;&nbsp;&nbsp;&nbsp;&nbsp;&nbsp;First, we start with a classification node, which we will name `'Removal'` and use for separating cells we wish to classify from those we don't. This layer will be situated at the start of the hierarchy, directly beneath the root node (named `All` in the code). We also provide a list of features (generally gene or protein markers) for use during high-confidence thresholding. To access the cell metadata stored in the `.obs` during high-confidence thresholding, we simply provide the column name (e.g. `'T_B doublets'`). This layer is set to be a cutoff layer, which means that it will be used to directly subset cells, without training a random forest.\n",
    "\n",
    "&nbsp;&nbsp;&nbsp;&nbsp;&nbsp;&nbsp;Next, we provide subset nodes, each with a name (e.g. `'Potential Doublets'`) and their parent (in this case, the `'Removal'` node). Each subset node is also defined with a list corresponding to their expression of the markers provided, or in this case, their expected values in the `.obs` column. This can also be provided as a list of lists (to specify multiple satisfactory conditions) or as a dictionary of keyword arguments to pass to `mmc.hc_defs` for generation of a list of lists."
   ]
  },
  {
   "cell_type": "code",
   "execution_count": null,
   "id": "700e4a44-c2fe-48dd-88a4-6fcd61e2f356",
   "metadata": {},
   "outputs": [],
   "source": [
    "h.add_classification('Removal', 'All', ['T_B doublets'], is_cutoff=True) \n",
    "h.add_subset('Potential Doublets','Removal', ['True'])\n",
    "h.add_subset('To classify', 'Removal', ['False'])"
   ]
  },
  {
   "cell_type": "markdown",
   "id": "2fd2a05d-1754-4460-9b8e-32810b080c99",
   "metadata": {},
   "source": [
    "Now let's run this single-layer classifier and see the result!"
   ]
  },
  {
   "cell_type": "code",
   "execution_count": null,
   "id": "92d6555e-54f9-4819-b47b-6b9fb1a3d637",
   "metadata": {
    "scrolled": true
   },
   "outputs": [],
   "source": [
    "adata,h = mmc.classify(adata, h, 'lin', retrain = True, weight_integration=True) \n",
    "adata = mmc.terminal_names(adata)"
   ]
  },
  {
   "cell_type": "markdown",
   "id": "b0ff7912-8bea-41dc-bab5-5eff7289d882",
   "metadata": {},
   "source": [
    "Great, looks like it worked correctly:"
   ]
  },
  {
   "cell_type": "code",
   "execution_count": null,
   "id": "395c13e6-1a50-4b40-923e-0017f0d4ed60",
   "metadata": {
    "scrolled": true
   },
   "outputs": [],
   "source": [
    "pd.crosstab(adata.obs.classification, adata.obs['T_B doublets'])"
   ]
  },
  {
   "cell_type": "markdown",
   "id": "0419db83-6352-4758-b271-6657aa94f65b",
   "metadata": {},
   "source": [
    "#### A brief aside: defining a simple classification level\n",
    "&nbsp;&nbsp;&nbsp;&nbsp;&nbsp;&nbsp;Lineage-level classification nodes tend to require many different markers to capture heterogenous populations. Before we dive into the next classification node, let's start with a simpler example. Let's say you have a dataset of only T cells, and are interested in selecting CD4 and CD8 T cells, based on expression of CD4 and CD8 protein, and *CD4* and *CD8A* transcripts. \n",
    "\n",
    "&nbsp;&nbsp;&nbsp;&nbsp;&nbsp;&nbsp;We will create an example hierarchy and add a classification level called `'Example level'`, specifying those markers. For convenience, marker names defined will be searched for using `mmc.utils.get_data` (see docs for details). For markers with unique names across the `.var_names`, `.obsm[data_key].columns`, and `.obs.columns`, we can just define them by that exact name, or use a unique pattern which occurs in that name. For markers with non-unique names, `mmc.utils.get_data` will select the item from the `.obsm[data_key].columns` before searching the `.var_names` or `.obs.columns`. To bypass this automatic prioritization, users can append `'_mod_data_key'`, `'_gex'`, or `'_obs'` to the marker name. Additionally, to allow for the specification of multiple thresholds for a single marker (e.g. to select an intermediate expression), users can append `'_hi'` or `'_lo'` to the marker's name. Here, you can see that we use both `'CD4'` to select the protein and `'CD4_gex'` to specify the transcript. \n",
    "\n",
    "Next, we will define subsets for CD4 and CD8 T cells, both with `'Example level'` as their parent node. We can then specify expression levels using 'pos' (for positive), 'neg' (for negative) and 'any' (for no restriction on expression of this marker) in a list. Here we define CD4 T cells as \\[CD4<sup>+</sup> CD8<sup>-</sup> *CD4*<sup>+</sup> *CD8A*<sup>-</sup>\\] and CD8 T cells as \\[CD4<sup>-</sup> CD8<sup>+</sup> *CD4*<sup>-</sup> *CD8A*<sup>+</sup>\\]. We can quickly visualize this using the `.display()` method.\n"
   ]
  },
  {
   "cell_type": "code",
   "execution_count": null,
   "id": "d4e7e25d-653d-4900-a3dd-dfeb5b5096ec",
   "metadata": {},
   "outputs": [],
   "source": [
    "example_h = mmc.Hierarchy()\n",
    "example_h.add_classification('Example level', 'All', ['CD4','CD8','CD4_gex','CD8A_gex'])\n",
    "example_h.add_subset('CD4 T cell', 'Example level', ['pos','neg','pos','neg'])\n",
    "example_h.add_subset('CD8 T cell', 'Example level', ['neg','pos','neg','pos'])\n",
    "example_h.display()"
   ]
  },
  {
   "cell_type": "markdown",
   "id": "681afad5-19f2-4286-a97e-f828a9698c3e",
   "metadata": {},
   "source": [
    "&nbsp;&nbsp;&nbsp;&nbsp;&nbsp;&nbsp;Specifying these subsets as positive for both the protein *and* transcript is quite restrictive, especially considering the low expression of *CD4* transcript. We may be interested in specifying that the high-confidence cells express either the protein or transcript. We can do this by providing a list of `['pos','neg','any']` lists, each specifying a satisfactory condition for labeling events as high-confidence. For example, we could do the following:\n"
   ]
  },
  {
   "cell_type": "code",
   "execution_count": null,
   "id": "7df7e5c6-88b9-4cfe-b144-8e89145d286e",
   "metadata": {},
   "outputs": [],
   "source": [
    "example_h = mmc.Hierarchy()\n",
    "example_h.add_classification('Example level', 'All', ['CD4','CD8','CD4_gex','CD8A_gex'])\n",
    "example_h.add_subset('CD4 T cell', 'Example level', [['any','neg','pos','neg'], ['pos','neg','any','neg']])\n",
    "example_h.add_subset('CD8 T cell', 'Example level', [['neg','any','neg','pos'], ['neg','pos','neg','any']])\n",
    "example_h.display()"
   ]
  },
  {
   "cell_type": "markdown",
   "id": "3317e96a-d1f1-43e0-ad2f-07f8ddb2bd4d",
   "metadata": {},
   "source": [
    "#### Defining a random forest classification node\n",
    "&nbsp;&nbsp;&nbsp;&nbsp;&nbsp;&nbsp;Great, now let's return to our original example and repeat the process to define another classification node and subsets. This one will be named `'Broad Lineages'`, will run on `'To classify'`, and will use a mix of gene and protein markers for high-confidence thresholding. We then will supply subsets with names (`'Lymphocyte'` and `'Myelocyte'`), both underneath `'Broad Lineages'`. For these subsets, we would like to use fairly complex marker definitions (expression of any 1 or any 2 of a list of markers), which would be hard to express as a list of lists (see comments). Thus, we have created a helper function to generate these complex rules (`mmc.hc_defs`), which is our preferred method for inputting definitions for subsets. To use it, pass a dictionary of keyword arguments specifying marker expression, using the keyword `pos` for any positive markers, `neg` for any negative markers and `any_of` for complex rules:"
   ]
  },
  {
   "cell_type": "code",
   "execution_count": null,
   "id": "98844121-1165-4c51-bace-8c70ed915007",
   "metadata": {},
   "outputs": [],
   "source": [
    "h.add_classification('Broad Lineages', 'To classify', ['CD14','CD33','MARCO','MERTK','CD3','CD19','CD127','JCHAIN','LILRA4']) \n",
    "# h.add_subset('Lymphocyte','Broad Lineages', [['neg', 'neg', 'neg', 'neg', 'pos', 'pos', 'any', 'any'],\n",
    "#                                             ['neg', 'neg', 'neg', 'neg', 'pos', 'any', 'pos', 'any'],\n",
    "#                                             ['neg', 'neg', 'neg', 'neg', 'pos', 'any', 'any', 'pos'],\n",
    "#                                             ['neg', 'neg', 'neg', 'neg', 'any', 'pos', 'pos', 'any'],\n",
    "#                                             ['neg', 'neg', 'neg', 'neg', 'any', 'pos', 'any', 'pos'],\n",
    "#                                             ['neg', 'neg', 'neg', 'neg', 'any', 'any', 'pos', 'pos']])\n",
    "h.add_subset('Lymphocyte', 'Broad Lineages', dict(neg=['CD14','CD33','MARCO','MERTK'], any_of=['CD3','CD19','CD127','JCHAIN'], n=2))"
   ]
  },
  {
   "cell_type": "markdown",
   "id": "cc764d9d-a347-412b-8f30-560d241e23a5",
   "metadata": {},
   "source": [
    "&nbsp;&nbsp;&nbsp;&nbsp;&nbsp;&nbsp;In addition to selecting any 1 or any few markers, there is one other type of complex rule we may want to introduce, which is a list of multiple conditions to satisfy. This is supported by providing a list of marker sets to `any_of`, and a list of integers to `n`. There is an additional parameter for how to link these conditions together, with `'&'` (when all `any_of` conditions must be met) or `'|'` connectors (when only one of the `any_of` conditions must be met). Here we want to specify Myelocytes must be negative for a suite of markers, and express (either CD14 or CD33) or (both *MARCO* and *MERTK*) or (*LILRA4*). Then, let's observe the hierarchy to make sure our definitions are correct: "
   ]
  },
  {
   "cell_type": "code",
   "execution_count": null,
   "id": "c9a13df9-dff8-45e4-9639-bd4f4adad396",
   "metadata": {},
   "outputs": [],
   "source": [
    "h.add_subset('Myelocyte', 'Broad Lineages', dict(neg=['CD3','CD19','JCHAIN'], any_of=[['CD14','CD33'],['MARCO','MERTK'],['LILRA4']], n=[1,2,1], any_ofs_connector='|'))\n",
    "h.display()"
   ]
  },
  {
   "cell_type": "markdown",
   "id": "161ee325-d195-4ff9-ade1-056d5e48fbd3",
   "metadata": {},
   "source": [
    "You can refer to the `mmc.hc_defs` docs for more details:"
   ]
  },
  {
   "cell_type": "code",
   "execution_count": null,
   "id": "e0021c3a-857d-48c8-8178-39907e6b2dc5",
   "metadata": {},
   "outputs": [],
   "source": [
    "help(mmc.hc_defs)"
   ]
  },
  {
   "cell_type": "markdown",
   "id": "4a03cb70-79ac-4b46-993e-0084a5a3b30d",
   "metadata": {},
   "source": [
    "<div class=\"alert alert-info\">\n",
    "    \n",
    "**Tip — Subset definitions** \n",
    "    \n",
    "&nbsp;&nbsp;&nbsp;&nbsp;&nbsp;&nbsp;For all classifications, it is generally useful to define any subset with at least one positive and one negative feature. Defining a subtype only negatively can be especially problematic, as both gene and (to a lesser degree) protein expression suffer from dropout, meaning expression of these markers may not be captured on all events. \n",
    "</div>"
   ]
  },
  {
   "cell_type": "markdown",
   "id": "ecd16a4d-626e-4f01-b10b-1cdab9e126ba",
   "metadata": {},
   "source": [
    "#### Thresholding\n",
    "&nbsp;&nbsp;&nbsp;&nbsp;&nbsp;&nbsp;We recommend building your hierarchy out one level at a time, thresholding and testing each level before building another. This is especially important when selecting thresholds for rare populations, whose expression of a marker might be hard to see on histograms of the entire dataset. Here we will subset to events intended for classification (as defined above). For more details on selecting thresholds, see the [High-Confidence Thresholding tutorial](./High_Confidence_Thresholding.ipynb)."
   ]
  },
  {
   "cell_type": "code",
   "execution_count": null,
   "id": "949872d6-01bb-4048-9d1c-ef58456dcc5d",
   "metadata": {},
   "outputs": [],
   "source": [
    "h.reset_thresholds()\n",
    "if os.path.isfile('data/integrated_thresholds.csv'):\n",
    "    h.load_thresholds('data/integrated_thresholds.csv')\n",
    "else:\n",
    "    print('Unable to load thresholds, generate thresholds yourself using h.run_all_thresholds')"
   ]
  },
  {
   "cell_type": "code",
   "execution_count": null,
   "id": "cc522f90-fab9-453c-aae9-f7f685391e9f",
   "metadata": {
    "scrolled": true,
    "tags": []
   },
   "outputs": [],
   "source": [
    "h.run_all_thresholds(adata[adata.obs.classification=='To classify'], mode='fancy rerun all')"
   ]
  },
  {
   "cell_type": "markdown",
   "id": "cf1f2eab-808f-4523-a1eb-c64f743d96cd",
   "metadata": {},
   "source": [
    "#### Running classification\n",
    "&nbsp;&nbsp;&nbsp;&nbsp;&nbsp;&nbsp;Now, let's run classification at this level and evaluate the results! To prevent repetitively computing the classification, we have `skip_to` and `end_at` parameters that can be used to select which levels of the hierarchy should be rerun. This relies on information from previous runs being stored in the `.obsm['lin']`"
   ]
  },
  {
   "cell_type": "code",
   "execution_count": null,
   "id": "3f7bc027-519d-44ed-acea-d020c36eb0c7",
   "metadata": {
    "scrolled": true
   },
   "outputs": [],
   "source": [
    "adata,h = mmc.classify(adata, h, 'lin', retrain=True, weight_integration=True, skip_to='Broad Lineages') \n",
    "adata = mmc.terminal_names(adata)"
   ]
  },
  {
   "cell_type": "markdown",
   "id": "32e68eb5-8d5d-41ec-a6ca-1c4fb7d4288b",
   "metadata": {},
   "source": [
    "We can then use UMAPs or other metrics to evaluate the classifications at this level before proceeding:"
   ]
  },
  {
   "cell_type": "code",
   "execution_count": null,
   "id": "cc836586-c974-468f-8841-95ad87b1c4ba",
   "metadata": {},
   "outputs": [],
   "source": [
    "sc.pl.umap(adata, color=['batch','classification'], s=25, sort_order=False, wspace =.5)\n",
    "sc.pl.umap(adata, color=['CD3E','CD4','CD8A','IL7R','NKG7','CD19','JCHAIN','CD14'],\n",
    "           s=25, sort_order=False, cmap='Reds')\n",
    "sc.pl.umap(protein_adata, color=['CD3','CD4','CD8a','CD127','CD56','CD19','CD14'],\n",
    "           s=25, sort_order=False, cmap='Blues')"
   ]
  },
  {
   "cell_type": "markdown",
   "id": "50cb7cf0-83fa-4557-8fae-4e8651cfd6c1",
   "metadata": {},
   "source": [
    "#### Defining more classification levels\n",
    "&nbsp;&nbsp;&nbsp;&nbsp;&nbsp;&nbsp;Great, looks like that layer worked well. Now you can repeat this process for each additional classification layer until you have finished developing your hierarchy. We will discuss the remaining layers more broadly, rather than walking through each step of this process. We next defined classification levels for Lymphocyte subsets and CD4 and CD8 T cells. For lymphocyte subsets, we didn't need to implement anything unique. For CD4 and CD8 T cells, we have tested classification and tuned random forest hyperparameters (using `clf_kwargs`) to select more `max_features` at each level. Read more about kwarg options [here](https://scikit-learn.org/stable/modules/generated/sklearn.ensemble.RandomForestClassifier.html)."
   ]
  },
  {
   "cell_type": "code",
   "execution_count": null,
   "id": "3830abd9-e5a4-4974-8543-cc4aa2e57881",
   "metadata": {},
   "outputs": [],
   "source": [
    "h.add_classification('Lymphoid', 'Lymphocyte', ['CD3','CD19','CD56','CD127','JCHAIN'])\n",
    "h.add_subset('T cell', 'Lymphoid', dict(pos=['CD3','CD127'], neg=['CD19','JCHAIN']))\n",
    "h.add_subset('B cell', 'Lymphoid', dict(any_of=['CD19','CD3','CD127','JCHAIN']))\n",
    "h.add_subset('Plasma cell', 'Lymphoid', dict(any_of=['JCHAIN'], neg=['CD3','CD127']))\n",
    "h.add_subset('NK_ILC', 'Lymphoid', dict(neg=['CD19','JCHAIN','CD3'], any_of=['CD127','CD56']))\n",
    "\n",
    "h.add_classification('CD4_CD8', 'T cell', ['CD4','CD8','CD4_gex','CD8A_gex'], clf_kwargs=dict(max_features=.1))\n",
    "h.add_subset('CD4 T cell', 'CD4_CD8', dict(neg=['CD8','CD8A_gex'], any_of=['CD4','CD4_gex']))\n",
    "h.add_subset('CD8 T cell', 'CD4_CD8', dict(any_of=['CD8','CD8A_gex'], neg=['CD4','CD4_gex']))"
   ]
  },
  {
   "cell_type": "markdown",
   "id": "12536527-0033-4ef4-8cc0-e34306333384",
   "metadata": {},
   "source": [
    "<div class=\"alert alert-info\">\n",
    "    \n",
    "**Tip — Hierarchy design** \n",
    "    \n",
    "&nbsp;&nbsp;&nbsp;&nbsp;&nbsp;&nbsp;Here, the hierarchy is setup to reflect known shared precursors and cell lineages, but lineage-based hierarchies aren't always the most effective! When adding new cells to the hierarchy, consider what other cell types share the most transcriptomic and phenotypic identity. If two or more cell types share more features across an axis than they differ, it may be helpful to group them together and separate them lower in the hierarchy. \n",
    "</div>"
   ]
  },
  {
   "cell_type": "markdown",
   "id": "1f2d7a43-73a4-49b7-b4ed-15fea41beffd",
   "metadata": {},
   "source": [
    "&nbsp;&nbsp;&nbsp;&nbsp;&nbsp;&nbsp;Once the hierarchy is created, you can use a helper function assign colors to each subset, and the hierarchy can be plotted using `plot=True` in the `.display()` method. "
   ]
  },
  {
   "cell_type": "code",
   "execution_count": null,
   "id": "06bb8599-81ef-43b8-a4d8-2bb854714bfd",
   "metadata": {},
   "outputs": [],
   "source": [
    "h.color_dict(True, rot=1, hue=3, mode='DEPTH')\n",
    "h.display(plot=True, font_mult=.75)"
   ]
  },
  {
   "cell_type": "markdown",
   "id": "88e078a0-3162-4341-be87-e5c55396de4e",
   "metadata": {},
   "source": [
    "<div class=\"alert alert-info\">\n",
    "    \n",
    "**Tip — Subset colors** \n",
    "\n",
    "You can also define colors for subsets within each `h.add_subset` call. In that case, you can retrieve a dictionary of those colors for plotting purposes using `h.color_dict()`.\n",
    "</div>"
   ]
  },
  {
   "cell_type": "markdown",
   "id": "11173777-ac9c-4584-ba74-a2d239d55270",
   "metadata": {
    "tags": []
   },
   "source": [
    "#### Flattening a hierarchy\n",
    "&nbsp;&nbsp;&nbsp;&nbsp;&nbsp;&nbsp;Sometimes, classification performance is low due to poor hierarchy design. This could be for many reasons, such as accidentally grouping two very distinct subsets, or performing subsetting in a nonoptimal order. If you would like to test whether your hierarchical design at any given level makes sense, you can try flattening individual levels using the `h.flatten_children()` method. This method allows children to inherent the definitions of their parents to make flattening a hierarchy a bit easier. For example here, we could try classifying CD4 and CD8 T cells at the same time as other lymphocyte populations."
   ]
  },
  {
   "cell_type": "code",
   "execution_count": null,
   "id": "e7f2a5b6-ae84-42c5-8306-41034103d94d",
   "metadata": {},
   "outputs": [],
   "source": [
    "h.flatten_children('T cell')\n",
    "h.display(True, font_mult=.75)"
   ]
  },
  {
   "cell_type": "markdown",
   "id": "b976c18b-e27e-445e-ac3d-a27bd430c176",
   "metadata": {},
   "source": [
    "## **Saving and loading a hierarchy**\n",
    "    \n",
    "Once a hierarchy is created, it can be saved along with high-confidence thresholding and any random forest classification performed for application to a new dataset."
   ]
  },
  {
   "cell_type": "code",
   "execution_count": null,
   "id": "59bee3e8-f102-4ceb-a0d6-398a7fbf366d",
   "metadata": {},
   "outputs": [],
   "source": [
    "h.save('data/ExampleHierarchy')"
   ]
  },
  {
   "cell_type": "markdown",
   "id": "bf589805-cbb8-460e-966d-bdaae39c43ad",
   "metadata": {},
   "source": [
    "This hierarchy can then be loaded for training later"
   ]
  },
  {
   "cell_type": "code",
   "execution_count": null,
   "id": "4fc8f5a2-53b5-407b-a671-72e9758a9874",
   "metadata": {},
   "outputs": [],
   "source": [
    "h = mmc.Hierarchy(load='data/ExampleHierarchy')"
   ]
  },
  {
   "cell_type": "markdown",
   "id": "b6d599ae-bc24-4157-a6b5-61a2558f08c9",
   "metadata": {},
   "source": [
    "<div class=\"alert alert-success\">\n",
    "    \n",
    "**Great!** \n",
    "    \n",
    "Now you can create a hierarchy with complex expression dependencies!<br>\n",
    "</div>"
   ]
  }
 ],
 "metadata": {
  "citation-manager": {
   "items": {}
  },
  "kernelspec": {
   "display_name": "mmochi",
   "language": "python",
   "name": "mmochi"
  },
  "language_info": {
   "codemirror_mode": {
    "name": "ipython",
    "version": 3
   },
   "file_extension": ".py",
   "mimetype": "text/x-python",
   "name": "python",
   "nbconvert_exporter": "python",
   "pygments_lexer": "ipython3",
   "version": "3.11.11"
  },
  "widgets": {
   "application/vnd.jupyter.widget-state+json": {
    "state": {
     "01d9a39ec867463d8fe50b7bb03d94c3": {
      "model_module": "@jupyter-widgets/controls",
      "model_module_version": "2.0.0",
      "model_name": "FloatSliderModel",
      "state": {
       "behavior": "drag-tap",
       "layout": "IPY_MODEL_ba68eef2c19e4606a3fa85c84647bf5b",
       "max": 6.490779399871826,
       "step": 0.1,
       "style": "IPY_MODEL_7152b6f7434e42a19d43a8b8cc8ea6db",
       "value": 2.8
      }
     },
     "036926f5a4474b32a7ad665254854044": {
      "model_module": "@jupyter-widgets/controls",
      "model_module_version": "2.0.0",
      "model_name": "SliderStyleModel",
      "state": {
       "description_width": ""
      }
     },
     "0eb9350dd8a046359ee92101f71e90f8": {
      "model_module": "@jupyter-widgets/controls",
      "model_module_version": "2.0.0",
      "model_name": "FloatSliderModel",
      "state": {
       "behavior": "drag-tap",
       "layout": "IPY_MODEL_3cfd7d515d56430f89c133923e518325",
       "max": 4.120174659562347,
       "step": 0.1,
       "style": "IPY_MODEL_036926f5a4474b32a7ad665254854044",
       "value": 2.4
      }
     },
     "0f14b6f11951443499972b4701ddb588": {
      "model_module": "@jupyter-widgets/controls",
      "model_module_version": "2.0.0",
      "model_name": "FloatSliderModel",
      "state": {
       "behavior": "drag-tap",
       "layout": "IPY_MODEL_55171a35f63047f8baadceff993eb5e7",
       "max": 3.257295608520508,
       "step": 0.1,
       "style": "IPY_MODEL_5e936e20b6564552b5fe357eaf8a96fb",
       "value": 0.5
      }
     },
     "141c5e72325446d996461647fc286d56": {
      "model_module": "@jupyter-widgets/base",
      "model_module_version": "2.0.0",
      "model_name": "LayoutModel",
      "state": {}
     },
     "14f88b97e02941778331ad258dba2361": {
      "model_module": "@jupyter-widgets/base",
      "model_module_version": "2.0.0",
      "model_name": "LayoutModel",
      "state": {
       "width": "600px"
      }
     },
     "202414c40dcd4149b7e178e053dab75f": {
      "model_module": "@jupyter-widgets/controls",
      "model_module_version": "2.0.0",
      "model_name": "HTMLStyleModel",
      "state": {
       "description_width": "",
       "font_size": null,
       "text_color": null
      }
     },
     "229d9d01c8404604936604a271d85a1c": {
      "model_module": "@jupyter-widgets/output",
      "model_module_version": "1.0.0",
      "model_name": "OutputModel",
      "state": {
       "layout": "IPY_MODEL_4615921396ae475682dd8d784c193af2"
      }
     },
     "29ae6d34384e411aa9e9ee1e80f4d35d": {
      "model_module": "@jupyter-widgets/controls",
      "model_module_version": "2.0.0",
      "model_name": "ProgressStyleModel",
      "state": {
       "description_width": ""
      }
     },
     "29bb44c0e2844b4381cccdb9ec8b8de2": {
      "model_module": "@jupyter-widgets/controls",
      "model_module_version": "2.0.0",
      "model_name": "SliderStyleModel",
      "state": {
       "description_width": ""
      }
     },
     "2c94ba78dfcd4155b3e28dc4e265c4bb": {
      "model_module": "@jupyter-widgets/controls",
      "model_module_version": "2.0.0",
      "model_name": "SliderStyleModel",
      "state": {
       "description_width": ""
      }
     },
     "31a29282bf0247f2848648ff135f04a4": {
      "model_module": "@jupyter-widgets/controls",
      "model_module_version": "2.0.0",
      "model_name": "FloatSliderModel",
      "state": {
       "behavior": "drag-tap",
       "layout": "IPY_MODEL_9efce01e7c894c34bbb68f9d7374846d",
       "max": 1.663966178894043,
       "step": 0.1,
       "style": "IPY_MODEL_abb4ed0b2b694b5ea8a29c3ca40ec6bc"
      }
     },
     "3256f7f2877949beb6de1d157f8c52ad": {
      "model_module": "@jupyter-widgets/base",
      "model_module_version": "2.0.0",
      "model_name": "LayoutModel",
      "state": {
       "width": "600px"
      }
     },
     "3471e6ddeda9429ab0da8bfdbad05f2f": {
      "model_module": "@jupyter-widgets/controls",
      "model_module_version": "2.0.0",
      "model_name": "SliderStyleModel",
      "state": {
       "description_width": ""
      }
     },
     "3a0c11f93ac740f491aa383471411244": {
      "model_module": "@jupyter-widgets/controls",
      "model_module_version": "2.0.0",
      "model_name": "SliderStyleModel",
      "state": {
       "description_width": ""
      }
     },
     "3a8ee9e47a1e4e80871f55de8b620b54": {
      "model_module": "@jupyter-widgets/controls",
      "model_module_version": "2.0.0",
      "model_name": "FloatProgressModel",
      "state": {
       "bar_style": "success",
       "layout": "IPY_MODEL_d0d7b36d3e104dc0bcbe074466f723e3",
       "max": 2,
       "style": "IPY_MODEL_29ae6d34384e411aa9e9ee1e80f4d35d",
       "value": 2
      }
     },
     "3b4836da011c418db3a1e0fea2d5d204": {
      "model_module": "@jupyter-widgets/controls",
      "model_module_version": "2.0.0",
      "model_name": "FloatSliderModel",
      "state": {
       "behavior": "drag-tap",
       "layout": "IPY_MODEL_59398e7ef63a434d8684ec8d63996261",
       "max": 3.257295608520508,
       "step": 0.1,
       "style": "IPY_MODEL_a9308f533f9b4773a8fe9aefab848eed"
      }
     },
     "3cfd7d515d56430f89c133923e518325": {
      "model_module": "@jupyter-widgets/base",
      "model_module_version": "2.0.0",
      "model_name": "LayoutModel",
      "state": {
       "width": "600px"
      }
     },
     "45c4fd6c98ae4525a26226aec8c4511e": {
      "model_module": "@jupyter-widgets/base",
      "model_module_version": "2.0.0",
      "model_name": "LayoutModel",
      "state": {
       "width": "600px"
      }
     },
     "4615921396ae475682dd8d784c193af2": {
      "model_module": "@jupyter-widgets/base",
      "model_module_version": "2.0.0",
      "model_name": "LayoutModel",
      "state": {}
     },
     "472c944fac1543e3a252d2d7613c26a6": {
      "model_module": "@jupyter-widgets/base",
      "model_module_version": "2.0.0",
      "model_name": "LayoutModel",
      "state": {
       "width": "600px"
      }
     },
     "477c117f1cea456ba2ed0fd08ec37954": {
      "model_module": "@jupyter-widgets/controls",
      "model_module_version": "2.0.0",
      "model_name": "SliderStyleModel",
      "state": {
       "description_width": ""
      }
     },
     "4a87123c76f34fe7af1eb81c0c20008b": {
      "model_module": "@jupyter-widgets/base",
      "model_module_version": "2.0.0",
      "model_name": "LayoutModel",
      "state": {}
     },
     "4ec258689ac64d5c8b684ac83b0737da": {
      "model_module": "@jupyter-widgets/controls",
      "model_module_version": "2.0.0",
      "model_name": "HTMLModel",
      "state": {
       "layout": "IPY_MODEL_141c5e72325446d996461647fc286d56",
       "style": "IPY_MODEL_202414c40dcd4149b7e178e053dab75f",
       "value": "100%"
      }
     },
     "50e7c0ffb7974623b48a7e7db812d676": {
      "model_module": "@jupyter-widgets/base",
      "model_module_version": "2.0.0",
      "model_name": "LayoutModel",
      "state": {
       "width": "600px"
      }
     },
     "55171a35f63047f8baadceff993eb5e7": {
      "model_module": "@jupyter-widgets/base",
      "model_module_version": "2.0.0",
      "model_name": "LayoutModel",
      "state": {
       "width": "600px"
      }
     },
     "5533cda91d394b5fac07918fc9dac4e5": {
      "model_module": "@jupyter-widgets/base",
      "model_module_version": "2.0.0",
      "model_name": "LayoutModel",
      "state": {
       "width": "600px"
      }
     },
     "55ae3265c4234f53bf05fcda75d8e561": {
      "model_module": "@jupyter-widgets/base",
      "model_module_version": "2.0.0",
      "model_name": "LayoutModel",
      "state": {
       "width": "600px"
      }
     },
     "59398e7ef63a434d8684ec8d63996261": {
      "model_module": "@jupyter-widgets/base",
      "model_module_version": "2.0.0",
      "model_name": "LayoutModel",
      "state": {
       "width": "600px"
      }
     },
     "5ba6286a1e7c41d6a8b83703c3ac55ed": {
      "model_module": "@jupyter-widgets/controls",
      "model_module_version": "2.0.0",
      "model_name": "SliderStyleModel",
      "state": {
       "description_width": ""
      }
     },
     "5d137e0e4ff5444297aab7b6471d8b2b": {
      "model_module": "@jupyter-widgets/controls",
      "model_module_version": "2.0.0",
      "model_name": "HTMLModel",
      "state": {
       "layout": "IPY_MODEL_4a87123c76f34fe7af1eb81c0c20008b",
       "style": "IPY_MODEL_cb8d04e859e04a61aa07d4950e58f45b",
       "value": " 2/2 [00:08&lt;00:00,  4.26s/it]"
      }
     },
     "5e936e20b6564552b5fe357eaf8a96fb": {
      "model_module": "@jupyter-widgets/controls",
      "model_module_version": "2.0.0",
      "model_name": "SliderStyleModel",
      "state": {
       "description_width": ""
      }
     },
     "60cc802ea13141a4888912d407bfcd6e": {
      "model_module": "@jupyter-widgets/base",
      "model_module_version": "2.0.0",
      "model_name": "LayoutModel",
      "state": {
       "width": "600px"
      }
     },
     "7152b6f7434e42a19d43a8b8cc8ea6db": {
      "model_module": "@jupyter-widgets/controls",
      "model_module_version": "2.0.0",
      "model_name": "SliderStyleModel",
      "state": {
       "description_width": ""
      }
     },
     "7533b42f4c63461991fcedf944575898": {
      "model_module": "@jupyter-widgets/controls",
      "model_module_version": "2.0.0",
      "model_name": "FloatSliderModel",
      "state": {
       "behavior": "drag-tap",
       "layout": "IPY_MODEL_f72f8327ca694076bccd5cc25a13389f",
       "max": 4.120174659562347,
       "step": 0.1,
       "style": "IPY_MODEL_eb660419d1664e14b04e40ea59bfe251",
       "value": 1.5
      }
     },
     "7d95415923f144fc910766e7c5c8354c": {
      "model_module": "@jupyter-widgets/controls",
      "model_module_version": "2.0.0",
      "model_name": "SliderStyleModel",
      "state": {
       "description_width": ""
      }
     },
     "7f54fe88e4b94bec993da589bb656fcb": {
      "model_module": "@jupyter-widgets/controls",
      "model_module_version": "2.0.0",
      "model_name": "ButtonModel",
      "state": {
       "description": "Click to run thresholds!",
       "layout": "IPY_MODEL_ced94ffa887f45bfae5420e1c336e932",
       "style": "IPY_MODEL_8f985f07fa0341afa2118e84554f6a82",
       "tooltip": null
      }
     },
     "83f45ea4969d43778d07f72840e67c73": {
      "model_module": "@jupyter-widgets/controls",
      "model_module_version": "2.0.0",
      "model_name": "SliderStyleModel",
      "state": {
       "description_width": ""
      }
     },
     "87c2eec44fd040aeb2c5465470469d40": {
      "model_module": "@jupyter-widgets/controls",
      "model_module_version": "2.0.0",
      "model_name": "FloatSliderModel",
      "state": {
       "behavior": "drag-tap",
       "layout": "IPY_MODEL_14f88b97e02941778331ad258dba2361",
       "max": 6.320133566083647,
       "step": 0.1,
       "style": "IPY_MODEL_bf6a620e447f493c8e0e32bae9065452",
       "value": 1.4
      }
     },
     "87fbfc886b414e5d94d91c508ddc53d1": {
      "model_module": "@jupyter-widgets/controls",
      "model_module_version": "2.0.0",
      "model_name": "FloatSliderModel",
      "state": {
       "behavior": "drag-tap",
       "layout": "IPY_MODEL_472c944fac1543e3a252d2d7613c26a6",
       "max": 3.3392157554626465,
       "step": 0.1,
       "style": "IPY_MODEL_3a0c11f93ac740f491aa383471411244",
       "value": 1.0000000000000002
      }
     },
     "8c452e3de2114920bf46973d1ad0af94": {
      "model_module": "@jupyter-widgets/controls",
      "model_module_version": "2.0.0",
      "model_name": "FloatSliderModel",
      "state": {
       "behavior": "drag-tap",
       "layout": "IPY_MODEL_3256f7f2877949beb6de1d157f8c52ad",
       "max": 6.490779399871826,
       "step": 0.1,
       "style": "IPY_MODEL_7d95415923f144fc910766e7c5c8354c",
       "value": 4.8
      }
     },
     "8f985f07fa0341afa2118e84554f6a82": {
      "model_module": "@jupyter-widgets/controls",
      "model_module_version": "2.0.0",
      "model_name": "ButtonStyleModel",
      "state": {
       "font_family": null,
       "font_size": null,
       "font_style": null,
       "font_variant": null,
       "font_weight": null,
       "text_color": null,
       "text_decoration": null
      }
     },
     "93c8439eb1204e039dd8d760ed7821c3": {
      "model_module": "@jupyter-widgets/controls",
      "model_module_version": "2.0.0",
      "model_name": "HBoxModel",
      "state": {
       "children": [
        "IPY_MODEL_4ec258689ac64d5c8b684ac83b0737da",
        "IPY_MODEL_3a8ee9e47a1e4e80871f55de8b620b54",
        "IPY_MODEL_5d137e0e4ff5444297aab7b6471d8b2b"
       ],
       "layout": "IPY_MODEL_cdfd3b2c3ca24a439baea3ff088cfacd"
      }
     },
     "96c88fef8a7c401aa26dc1c91d461242": {
      "model_module": "@jupyter-widgets/base",
      "model_module_version": "2.0.0",
      "model_name": "LayoutModel",
      "state": {
       "width": "600px"
      }
     },
     "96d35a8117b9407fa49fe24a73c3a7f1": {
      "model_module": "@jupyter-widgets/controls",
      "model_module_version": "2.0.0",
      "model_name": "FloatSliderModel",
      "state": {
       "behavior": "drag-tap",
       "layout": "IPY_MODEL_96c88fef8a7c401aa26dc1c91d461242",
       "max": 3.433803744204542,
       "step": 0.1,
       "style": "IPY_MODEL_29bb44c0e2844b4381cccdb9ec8b8de2",
       "value": 2.2
      }
     },
     "979071c6595d488b80d52863288373ec": {
      "model_module": "@jupyter-widgets/controls",
      "model_module_version": "2.0.0",
      "model_name": "FloatSliderModel",
      "state": {
       "behavior": "drag-tap",
       "layout": "IPY_MODEL_cd84c470035741fc92e8a62475b4dbc6",
       "max": 3.3392157554626465,
       "step": 0.1,
       "style": "IPY_MODEL_9b89893b4a924879888e0d0c326d2aa8",
       "value": 0.9000000000000001
      }
     },
     "9b89893b4a924879888e0d0c326d2aa8": {
      "model_module": "@jupyter-widgets/controls",
      "model_module_version": "2.0.0",
      "model_name": "SliderStyleModel",
      "state": {
       "description_width": ""
      }
     },
     "9e52b190262e441e823a70b6dcaea4a8": {
      "model_module": "@jupyter-widgets/controls",
      "model_module_version": "2.0.0",
      "model_name": "FloatSliderModel",
      "state": {
       "behavior": "drag-tap",
       "layout": "IPY_MODEL_55ae3265c4234f53bf05fcda75d8e561",
       "max": 2.8468706607818604,
       "step": 0.1,
       "style": "IPY_MODEL_477c117f1cea456ba2ed0fd08ec37954",
       "value": 0.5
      }
     },
     "9efce01e7c894c34bbb68f9d7374846d": {
      "model_module": "@jupyter-widgets/base",
      "model_module_version": "2.0.0",
      "model_name": "LayoutModel",
      "state": {
       "width": "600px"
      }
     },
     "a9308f533f9b4773a8fe9aefab848eed": {
      "model_module": "@jupyter-widgets/controls",
      "model_module_version": "2.0.0",
      "model_name": "SliderStyleModel",
      "state": {
       "description_width": ""
      }
     },
     "abb4ed0b2b694b5ea8a29c3ca40ec6bc": {
      "model_module": "@jupyter-widgets/controls",
      "model_module_version": "2.0.0",
      "model_name": "SliderStyleModel",
      "state": {
       "description_width": ""
      }
     },
     "ad480112439f4b94834ad5cec560f3c2": {
      "model_module": "@jupyter-widgets/controls",
      "model_module_version": "2.0.0",
      "model_name": "FloatSliderModel",
      "state": {
       "behavior": "drag-tap",
       "layout": "IPY_MODEL_f19bbaeb1e8a4dd1945e6d38f97a2197",
       "max": 6.320133566083647,
       "step": 0.1,
       "style": "IPY_MODEL_2c94ba78dfcd4155b3e28dc4e265c4bb",
       "value": 1.9
      }
     },
     "af620c2e5c084725bc59a9d0d9ce3884": {
      "model_module": "@jupyter-widgets/controls",
      "model_module_version": "2.0.0",
      "model_name": "FloatSliderModel",
      "state": {
       "behavior": "drag-tap",
       "layout": "IPY_MODEL_c8b1f3197f3745d79968031a536ea4e6",
       "max": 2.8468706607818604,
       "step": 0.1,
       "style": "IPY_MODEL_d282cb87dee6410caad0307a00abee34"
      }
     },
     "ba68eef2c19e4606a3fa85c84647bf5b": {
      "model_module": "@jupyter-widgets/base",
      "model_module_version": "2.0.0",
      "model_name": "LayoutModel",
      "state": {
       "width": "600px"
      }
     },
     "bf6a620e447f493c8e0e32bae9065452": {
      "model_module": "@jupyter-widgets/controls",
      "model_module_version": "2.0.0",
      "model_name": "SliderStyleModel",
      "state": {
       "description_width": ""
      }
     },
     "c8b1f3197f3745d79968031a536ea4e6": {
      "model_module": "@jupyter-widgets/base",
      "model_module_version": "2.0.0",
      "model_name": "LayoutModel",
      "state": {
       "width": "600px"
      }
     },
     "cb8d04e859e04a61aa07d4950e58f45b": {
      "model_module": "@jupyter-widgets/controls",
      "model_module_version": "2.0.0",
      "model_name": "HTMLStyleModel",
      "state": {
       "description_width": "",
       "font_size": null,
       "text_color": null
      }
     },
     "cd84c470035741fc92e8a62475b4dbc6": {
      "model_module": "@jupyter-widgets/base",
      "model_module_version": "2.0.0",
      "model_name": "LayoutModel",
      "state": {
       "width": "600px"
      }
     },
     "cdfd3b2c3ca24a439baea3ff088cfacd": {
      "model_module": "@jupyter-widgets/base",
      "model_module_version": "2.0.0",
      "model_name": "LayoutModel",
      "state": {}
     },
     "ced94ffa887f45bfae5420e1c336e932": {
      "model_module": "@jupyter-widgets/base",
      "model_module_version": "2.0.0",
      "model_name": "LayoutModel",
      "state": {}
     },
     "d0d7b36d3e104dc0bcbe074466f723e3": {
      "model_module": "@jupyter-widgets/base",
      "model_module_version": "2.0.0",
      "model_name": "LayoutModel",
      "state": {}
     },
     "d282cb87dee6410caad0307a00abee34": {
      "model_module": "@jupyter-widgets/controls",
      "model_module_version": "2.0.0",
      "model_name": "SliderStyleModel",
      "state": {
       "description_width": ""
      }
     },
     "d4f42285428b4db7bcf3b7e914ceb48d": {
      "model_module": "@jupyter-widgets/controls",
      "model_module_version": "2.0.0",
      "model_name": "FloatSliderModel",
      "state": {
       "behavior": "drag-tap",
       "layout": "IPY_MODEL_45c4fd6c98ae4525a26226aec8c4511e",
       "max": 4.009825242409079,
       "step": 0.1,
       "style": "IPY_MODEL_83f45ea4969d43778d07f72840e67c73",
       "value": 1.7000000000000002
      }
     },
     "eb660419d1664e14b04e40ea59bfe251": {
      "model_module": "@jupyter-widgets/controls",
      "model_module_version": "2.0.0",
      "model_name": "SliderStyleModel",
      "state": {
       "description_width": ""
      }
     },
     "ed94319b5aa64df6a782d0ad45469a2f": {
      "model_module": "@jupyter-widgets/controls",
      "model_module_version": "2.0.0",
      "model_name": "FloatSliderModel",
      "state": {
       "behavior": "drag-tap",
       "layout": "IPY_MODEL_60cc802ea13141a4888912d407bfcd6e",
       "max": 4.009825242409079,
       "step": 0.1,
       "style": "IPY_MODEL_f608f7d7061d4908b82018879421451a",
       "value": 2.4
      }
     },
     "f02add5a37864a82824162960cfeaa28": {
      "model_module": "@jupyter-widgets/controls",
      "model_module_version": "2.0.0",
      "model_name": "FloatSliderModel",
      "state": {
       "behavior": "drag-tap",
       "layout": "IPY_MODEL_50e7c0ffb7974623b48a7e7db812d676",
       "max": 3.433803744204542,
       "step": 0.1,
       "style": "IPY_MODEL_3471e6ddeda9429ab0da8bfdbad05f2f",
       "value": 1.4
      }
     },
     "f19bbaeb1e8a4dd1945e6d38f97a2197": {
      "model_module": "@jupyter-widgets/base",
      "model_module_version": "2.0.0",
      "model_name": "LayoutModel",
      "state": {
       "width": "600px"
      }
     },
     "f608f7d7061d4908b82018879421451a": {
      "model_module": "@jupyter-widgets/controls",
      "model_module_version": "2.0.0",
      "model_name": "SliderStyleModel",
      "state": {
       "description_width": ""
      }
     },
     "f72f8327ca694076bccd5cc25a13389f": {
      "model_module": "@jupyter-widgets/base",
      "model_module_version": "2.0.0",
      "model_name": "LayoutModel",
      "state": {
       "width": "600px"
      }
     },
     "f9d821d47a4842f3883d30fc0a72afb3": {
      "model_module": "@jupyter-widgets/controls",
      "model_module_version": "2.0.0",
      "model_name": "FloatSliderModel",
      "state": {
       "behavior": "drag-tap",
       "layout": "IPY_MODEL_5533cda91d394b5fac07918fc9dac4e5",
       "max": 1.663966178894043,
       "step": 0.1,
       "style": "IPY_MODEL_5ba6286a1e7c41d6a8b83703c3ac55ed",
       "value": 0.7
      }
     }
    },
    "version_major": 2,
    "version_minor": 0
   }
  }
 },
 "nbformat": 4,
 "nbformat_minor": 5
}
